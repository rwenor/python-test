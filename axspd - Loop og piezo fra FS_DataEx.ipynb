{
 "metadata": {
  "name": "",
  "signature": "sha256:6e62962de96e8abcbafe0c532967de1fffa3682490fab4d15fbe1c6ec0a0181f"
 },
 "nbformat": 3,
 "nbformat_minor": 0,
 "worksheets": [
  {
   "cells": [
    {
     "cell_type": "code",
     "collapsed": false,
     "input": [
      "import pandas as pd\n",
      "import numpy as np\n",
      "import matplotlib.pyplot as plt\n",
      "%matplotlib inline  "
     ],
     "language": "python",
     "metadata": {},
     "outputs": [],
     "prompt_number": 2
    },
    {
     "cell_type": "code",
     "collapsed": false,
     "input": [
      "ls *.ax*"
     ],
     "language": "python",
     "metadata": {},
     "outputs": [
      {
       "output_type": "stream",
       "stream": "stdout",
       "text": [
        " Volume in drive C has no label.\n",
        " Volume Serial Number is 0023-94AB\n",
        "\n",
        " Directory of C:\\Users\\rolf.AXICON\\Dropbox\\python\n",
        "\n",
        "06.03.2015  22:39           206\u00ff969 224_dato.axd\n",
        "06.03.2015  22:42         1\u00ff045\u00ff410 224_dato-stor.axd\n",
        "09.03.2015  13:18           656\u00ff378 231_dato.axd\n",
        "09.07.2015  09:09         3\u00ff205\u00ff824 273_2015-07-09.axdmp\n",
        "09.07.2015  09:11           229\u00ff080 273_2015-07-09H72.axd\n",
        "15.07.2015  15:27            99\u00ff580 273_dato.axd\n",
        "09.07.2015  08:59           117\u00ff322 273_dato.axdmp\n",
        "09.07.2015  13:58            18\u00ff533 273_dato.axspd\n",
        "08.07.2015  17:23           153\u00ff719 273-sig.axd\n",
        "10.04.2015  08:36           121\u00ff025 309_dato.axd\n",
        "09.03.2015  14:26                 0 342_dato.axd\n",
        "01.10.2015  14:42            16\u00ff741 369_dato.axspd\n",
        "15.07.2015  14:41            99\u00ff260 385_dato.axd\n",
        "05.10.2015  13:02                 7 506_2005-10-05_2t.axd\n",
        "05.10.2015  13:03            29\u00ff888 506_2005-10-05_2t.axspd\n",
        "14.10.2015  08:23           239\u00ff469 506_2015-10-14_48t.axspd\n",
        "29.10.2015  09:09           551\u00ff097 506_2015-10-29_7dager.axspd\n",
        "05.10.2015  13:04            29\u00ff888 506_2t.axspd\n",
        "06.03.2015  15:52            81\u00ff108 506_dato.axd\n",
        "02.10.2015  12:23            35\u00ff039 506_dato.axspd\n",
        "30.09.2015  08:57            20\u00ff469 506_dato.axspd.bak\n",
        "24.03.2015  11:11           273\u00ff591 506_dato0324.axd\n",
        "01.10.2015  14:39             2\u00ff667 506_dato-2.axspd\n",
        "06.03.2015  17:05           573\u00ff865 506_dato-stor.axd\n",
        "14.10.2015  08:30           222\u00ff046 507_2015-10-14_48t.axspd\n",
        "29.10.2015  09:18           372\u00ff047 507_2015-10-29_7dager.axspd\n",
        "06.03.2015  15:32           324\u00ff721 507_dato.axd\n",
        "02.10.2015  12:36            32\u00ff690 507_dato.axspd\n",
        "28.05.2015  10:54            97\u00ff995 539_dato.axd\n",
        "28.05.2015  12:19         1\u00ff743\u00ff939 539_dato-mai.axd\n",
        "19.08.2015  13:19            90\u00ff825 540_dato.axd\n",
        "01.10.2015  14:26            17\u00ff419 561_dato.axspd\n",
        "01.10.2015  12:12               354 561_dato_f2.axspd\n",
        "21.04.2015  08:52           265\u00ff360 569_dato.axd\n",
        "15.07.2015  09:03               474 EtKjt.axdmp\n",
        "15.07.2015  14:49               889 interesan.axdmp\n",
        "              36 File(s)     10\u00ff975\u00ff688 bytes\n",
        "               0 Dir(s)  11\u00ff679\u00ff715\u00ff328 bytes free\n"
       ]
      }
     ],
     "prompt_number": 3
    },
    {
     "cell_type": "code",
     "collapsed": false,
     "input": [
      "T1 = pd.read_csv('507_2015-10-29_7dager.axspd', sep='\\t')\n",
      "T2 = pd.read_csv('506_2015-10-29_7dager.axspd', sep='\\t')"
     ],
     "language": "python",
     "metadata": {},
     "outputs": [],
     "prompt_number": 4
    },
    {
     "cell_type": "code",
     "collapsed": false,
     "input": [
      "T1 = T1[T1.H_LF > 0]\n",
      "T1.tail()"
     ],
     "language": "python",
     "metadata": {},
     "outputs": [
      {
       "html": [
        "<div style=\"max-height:1000px;max-width:1500px;overflow:auto;\">\n",
        "<table border=\"1\" class=\"dataframe\">\n",
        "  <thead>\n",
        "    <tr style=\"text-align: right;\">\n",
        "      <th></th>\n",
        "      <th>V_NR</th>\n",
        "      <th>H_LF</th>\n",
        "      <th>H_LT</th>\n",
        "      <th>V_LEN</th>\n",
        "      <th>L1_SIG</th>\n",
        "      <th>L2_SIG</th>\n",
        "      <th>H_A1</th>\n",
        "      <th>H_A2</th>\n",
        "      <th>A_AVST</th>\n",
        "    </tr>\n",
        "  </thead>\n",
        "  <tbody>\n",
        "    <tr>\n",
        "      <th>6257</th>\n",
        "      <td> 291924</td>\n",
        "      <td> 5380</td>\n",
        "      <td> 5418</td>\n",
        "      <td> 4067</td>\n",
        "      <td>  9421</td>\n",
        "      <td>  9147</td>\n",
        "      <td> 5370</td>\n",
        "      <td> 5361</td>\n",
        "      <td> 2685</td>\n",
        "    </tr>\n",
        "    <tr>\n",
        "      <th>6258</th>\n",
        "      <td> 291928</td>\n",
        "      <td> 6547</td>\n",
        "      <td> 6535</td>\n",
        "      <td> 4807</td>\n",
        "      <td> 11121</td>\n",
        "      <td> 11063</td>\n",
        "      <td> 6546</td>\n",
        "      <td> 6540</td>\n",
        "      <td> 2855</td>\n",
        "    </tr>\n",
        "    <tr>\n",
        "      <th>6259</th>\n",
        "      <td> 291930</td>\n",
        "      <td> 6817</td>\n",
        "      <td> 6835</td>\n",
        "      <td> 4931</td>\n",
        "      <td> 11872</td>\n",
        "      <td> 11583</td>\n",
        "      <td> 6830</td>\n",
        "      <td> 6828</td>\n",
        "      <td> 2883</td>\n",
        "    </tr>\n",
        "    <tr>\n",
        "      <th>6260</th>\n",
        "      <td> 291931</td>\n",
        "      <td> 6642</td>\n",
        "      <td> 6587</td>\n",
        "      <td> 8028</td>\n",
        "      <td>  5428</td>\n",
        "      <td>  5387</td>\n",
        "      <td> 6568</td>\n",
        "      <td> 6572</td>\n",
        "      <td> 3703</td>\n",
        "    </tr>\n",
        "    <tr>\n",
        "      <th>6261</th>\n",
        "      <td> 291934</td>\n",
        "      <td> 6977</td>\n",
        "      <td> 6891</td>\n",
        "      <td> 4202</td>\n",
        "      <td>  8642</td>\n",
        "      <td>  8766</td>\n",
        "      <td> 6939</td>\n",
        "      <td> 6938</td>\n",
        "      <td> 2588</td>\n",
        "    </tr>\n",
        "  </tbody>\n",
        "</table>\n",
        "</div>"
       ],
       "metadata": {},
       "output_type": "pyout",
       "prompt_number": 5,
       "text": [
        "        V_NR  H_LF  H_LT  V_LEN  L1_SIG  L2_SIG  H_A1  H_A2  A_AVST\n",
        "6257  291924  5380  5418   4067    9421    9147  5370  5361    2685\n",
        "6258  291928  6547  6535   4807   11121   11063  6546  6540    2855\n",
        "6259  291930  6817  6835   4931   11872   11583  6830  6828    2883\n",
        "6260  291931  6642  6587   8028    5428    5387  6568  6572    3703\n",
        "6261  291934  6977  6891   4202    8642    8766  6939  6938    2588"
       ]
      }
     ],
     "prompt_number": 5
    },
    {
     "cell_type": "code",
     "collapsed": false,
     "input": [
      "T1['HA_diff'] = T1['H_A2']-T1['H_A1']\n",
      "T1['HL_diff'] = T1['H_LT']-T1['H_LF']\n",
      "T1['HLFA_diff'] = T1['H_LF']-T1['H_A1']\n",
      "T1['HLTA_diff'] = T1['H_LT']-T1['H_A1']"
     ],
     "language": "python",
     "metadata": {},
     "outputs": [],
     "prompt_number": 6
    },
    {
     "cell_type": "code",
     "collapsed": false,
     "input": [
      "np.average( T1['HA_diff'] )"
     ],
     "language": "python",
     "metadata": {},
     "outputs": [
      {
       "metadata": {},
       "output_type": "pyout",
       "prompt_number": 7,
       "text": [
        "nan"
       ]
      }
     ],
     "prompt_number": 7
    },
    {
     "cell_type": "code",
     "collapsed": false,
     "input": [
      "T1.mean() "
     ],
     "language": "python",
     "metadata": {},
     "outputs": [
      {
       "metadata": {},
       "output_type": "pyout",
       "prompt_number": 8,
       "text": [
        "V_NR         284689.341069\n",
        "H_LF           6540.396127\n",
        "H_LT           6558.916133\n",
        "V_LEN          5166.875160\n",
        "L1_SIG         8790.556018\n",
        "L2_SIG         8604.087868\n",
        "H_A1           6527.647786\n",
        "H_A2           6519.473203\n",
        "A_AVST         2902.633986\n",
        "HA_diff          -8.174583\n",
        "HL_diff          18.520006\n",
        "HLFA_diff        14.222561\n",
        "HLTA_diff        32.743421\n",
        "dtype: float64"
       ]
      }
     ],
     "prompt_number": 8
    },
    {
     "cell_type": "code",
     "collapsed": false,
     "input": [
      "T2['HA_diff'] = T2['H_A2']-T2['H_A1']\n",
      "T2['HL_diff'] = T2['H_LT']-T2['H_LF']\n",
      "T2['HLFA_diff'] = T2['H_LF']-T2['H_A1']\n",
      "T2['HLTA_diff'] = T2['H_LT']-T2['H_A1']"
     ],
     "language": "python",
     "metadata": {},
     "outputs": [],
     "prompt_number": 35
    },
    {
     "cell_type": "code",
     "collapsed": false,
     "input": [
      "T2.mean() "
     ],
     "language": "python",
     "metadata": {},
     "outputs": [
      {
       "metadata": {},
       "output_type": "pyout",
       "prompt_number": 9,
       "text": [
        "V_NR      440049.586660\n",
        "H_LF        6591.582808\n",
        "H_LT        6556.644783\n",
        "V_LEN       5038.860032\n",
        "L1_SIG      7433.447742\n",
        "L2_SIG      7604.992997\n",
        "H_A1        6661.320530\n",
        "H_A2        6660.108568\n",
        "A_AVST      2854.461194\n",
        "dtype: float64"
       ]
      }
     ],
     "prompt_number": 9
    },
    {
     "cell_type": "code",
     "collapsed": false,
     "input": [
      "T1.std()"
     ],
     "language": "python",
     "metadata": {},
     "outputs": [
      {
       "metadata": {},
       "output_type": "pyout",
       "prompt_number": 10,
       "text": [
        "V_NR         5393.219886\n",
        "H_LF          546.439450\n",
        "H_LT          557.382076\n",
        "V_LEN        3073.133302\n",
        "L1_SIG       2358.117642\n",
        "L2_SIG       2319.508714\n",
        "H_A1          550.210373\n",
        "H_A2          552.869335\n",
        "A_AVST        595.837604\n",
        "HA_diff        17.761306\n",
        "HL_diff        79.506884\n",
        "HLFA_diff      71.858956\n",
        "HLTA_diff      65.286506\n",
        "dtype: float64"
       ]
      }
     ],
     "prompt_number": 10
    },
    {
     "cell_type": "code",
     "collapsed": false,
     "input": [
      "T2.std()"
     ],
     "language": "python",
     "metadata": {},
     "outputs": [
      {
       "metadata": {},
       "output_type": "pyout",
       "prompt_number": 11,
       "text": [
        "V_NR      366830.122626\n",
        "H_LF         934.546551\n",
        "H_LT         934.102405\n",
        "V_LEN       3560.901487\n",
        "L1_SIG      3668.508701\n",
        "L2_SIG      3763.684493\n",
        "H_A1         572.074564\n",
        "H_A2         571.150073\n",
        "A_AVST       549.562494\n",
        "dtype: float64"
       ]
      }
     ],
     "prompt_number": 11
    },
    {
     "cell_type": "code",
     "collapsed": false,
     "input": [
      "len(T2)\n"
     ],
     "language": "python",
     "metadata": {},
     "outputs": [
      {
       "metadata": {},
       "output_type": "pyout",
       "prompt_number": 17,
       "text": [
        "11424"
       ]
      }
     ],
     "prompt_number": 17
    },
    {
     "cell_type": "code",
     "collapsed": false,
     "input": [
      "hist_ha = T1['HA_diff'].hist(bins=20, range=(-200,200))"
     ],
     "language": "python",
     "metadata": {},
     "outputs": [
      {
       "metadata": {},
       "output_type": "display_data",
       "png": "[encoded data removed]",
       "text": [
        "<matplotlib.figure.Figure at 0xc2bc518>"
       ]
      }
     ],
     "prompt_number": 13
    },
    {
     "cell_type": "code",
     "collapsed": false,
     "input": [],
     "language": "python",
     "metadata": {},
     "outputs": [],
     "prompt_number": 40
    },
    {
     "cell_type": "code",
     "collapsed": false,
     "input": [],
     "language": "python",
     "metadata": {},
     "outputs": []
    }
   ],
   "metadata": {}
  }
 ]
}